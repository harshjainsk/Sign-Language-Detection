{
 "cells": [
  {
   "cell_type": "code",
   "execution_count": 1,
   "id": "275d7ddc",
   "metadata": {},
   "outputs": [],
   "source": [
    "import cv2\n",
    "import os\n",
    "import time\n",
    "import uuid"
   ]
  },
  {
   "cell_type": "code",
   "execution_count": 2,
   "id": "25374f18",
   "metadata": {},
   "outputs": [],
   "source": [
    "IMAGES_PATH = 'Tensorflow\\workspace\\images\\collectedimages'"
   ]
  },
  {
   "cell_type": "markdown",
   "id": "51d355d6",
   "metadata": {},
   "source": [
    "# Creating image labels and number of images to capture"
   ]
  },
  {
   "cell_type": "code",
   "execution_count": 3,
   "id": "377c3196",
   "metadata": {},
   "outputs": [],
   "source": [
    "label = ['ayee_yo', 'yes', 'no', 'shocked', 'stop']\n",
    "number_of_images = 20"
   ]
  },
  {
   "cell_type": "markdown",
   "id": "d86c68b4",
   "metadata": {},
   "source": [
    "# Creating our own dataset"
   ]
  },
  {
   "cell_type": "code",
   "execution_count": 4,
   "id": "74ceab01",
   "metadata": {},
   "outputs": [
    {
     "name": "stdout",
     "output_type": "stream",
     "text": [
      "Collecting images for timepass1\n",
      "Tensorflow\\workspace\\images\\collectedimages\\timepass1\\timepass1_0_43a8d72e-28ef-11ed-9edc-c8b29b0ea9b0.jpg\n",
      "Tensorflow\\workspace\\images\\collectedimages\\timepass1\\timepass1_1_458c41f0-28ef-11ed-916b-c8b29b0ea9b0.jpg\n",
      "Tensorflow\\workspace\\images\\collectedimages\\timepass1\\timepass1_2_475d8601-28ef-11ed-8356-c8b29b0ea9b0.jpg\n",
      "Tensorflow\\workspace\\images\\collectedimages\\timepass1\\timepass1_3_492c17f8-28ef-11ed-91c3-c8b29b0ea9b0.jpg\n",
      "Tensorflow\\workspace\\images\\collectedimages\\timepass1\\timepass1_4_4afedbf6-28ef-11ed-a3db-c8b29b0ea9b0.jpg\n",
      "Tensorflow\\workspace\\images\\collectedimages\\timepass1\\timepass1_5_4ccec927-28ef-11ed-80ce-c8b29b0ea9b0.jpg\n",
      "Tensorflow\\workspace\\images\\collectedimages\\timepass1\\timepass1_6_4ea2629b-28ef-11ed-a237-c8b29b0ea9b0.jpg\n",
      "Tensorflow\\workspace\\images\\collectedimages\\timepass1\\timepass1_7_50759d4f-28ef-11ed-b412-c8b29b0ea9b0.jpg\n",
      "Tensorflow\\workspace\\images\\collectedimages\\timepass1\\timepass1_8_52464a88-28ef-11ed-9ba0-c8b29b0ea9b0.jpg\n",
      "Tensorflow\\workspace\\images\\collectedimages\\timepass1\\timepass1_9_541707c8-28ef-11ed-b39a-c8b29b0ea9b0.jpg\n",
      "Tensorflow\\workspace\\images\\collectedimages\\timepass1\\timepass1_10_55e98546-28ef-11ed-8ca7-c8b29b0ea9b0.jpg\n",
      "Tensorflow\\workspace\\images\\collectedimages\\timepass1\\timepass1_11_57bd2f06-28ef-11ed-aa9f-c8b29b0ea9b0.jpg\n",
      "Tensorflow\\workspace\\images\\collectedimages\\timepass1\\timepass1_12_598d8970-28ef-11ed-b4fd-c8b29b0ea9b0.jpg\n",
      "Tensorflow\\workspace\\images\\collectedimages\\timepass1\\timepass1_13_5b5e8290-28ef-11ed-8e98-c8b29b0ea9b0.jpg\n",
      "Tensorflow\\workspace\\images\\collectedimages\\timepass1\\timepass1_14_5d2f848b-28ef-11ed-a3a9-c8b29b0ea9b0.jpg\n",
      "Tensorflow\\workspace\\images\\collectedimages\\timepass1\\timepass1_15_5f0006fb-28ef-11ed-8c6f-c8b29b0ea9b0.jpg\n",
      "Tensorflow\\workspace\\images\\collectedimages\\timepass1\\timepass1_16_60d1b9ca-28ef-11ed-b2da-c8b29b0ea9b0.jpg\n",
      "Tensorflow\\workspace\\images\\collectedimages\\timepass1\\timepass1_17_62a80c13-28ef-11ed-b59e-c8b29b0ea9b0.jpg\n",
      "Tensorflow\\workspace\\images\\collectedimages\\timepass1\\timepass1_18_647ba126-28ef-11ed-847d-c8b29b0ea9b0.jpg\n",
      "Tensorflow\\workspace\\images\\collectedimages\\timepass1\\timepass1_19_66524f48-28ef-11ed-85d0-c8b29b0ea9b0.jpg\n"
     ]
    }
   ],
   "source": [
    "# !mkdir {'Tensorflow\\\\workspace\\\\images\\\\collectedimages\\\\' +label[0]}\n",
    "\n",
    "cap = cv2.VideoCapture(0)\n",
    "print(f\"Collecting images for timepass1\")\n",
    "\n",
    "\n",
    "if cap.isOpened():\n",
    "    time.sleep(5)\n",
    "    for image_number in range(number_of_images):\n",
    "        ret, frame = cap.read()\n",
    "        imagename = os.path.join(IMAGES_PATH, 'timepass1','timepass1_' + str(image_number) + f'_{str(uuid.uuid1())}.jpg')\n",
    "        \n",
    "        if ret:\n",
    "#             img_name = os.path.join(IMAGES_PATH, label[0], str(uuid.uuid4()) + '.jpg')\n",
    "\n",
    "            print(imagename)\n",
    "            cv2.imwrite(imagename, frame)\n",
    "            cv2.imshow('frame', frame)\n",
    "\n",
    "            time.sleep(3)\n",
    "\n",
    "            if cv2.waitKey(1) & 0xFF == ord('q'):\n",
    "                break\n",
    "    cap.release()\n",
    "# cap.destroyAllWindows()"
   ]
  },
  {
   "cell_type": "code",
   "execution_count": null,
   "id": "c11078f3",
   "metadata": {},
   "outputs": [],
   "source": []
  }
 ],
 "metadata": {
  "kernelspec": {
   "display_name": "Python 3 (ipykernel)",
   "language": "python",
   "name": "python3"
  },
  "language_info": {
   "codemirror_mode": {
    "name": "ipython",
    "version": 3
   },
   "file_extension": ".py",
   "mimetype": "text/x-python",
   "name": "python",
   "nbconvert_exporter": "python",
   "pygments_lexer": "ipython3",
   "version": "3.9.12"
  }
 },
 "nbformat": 4,
 "nbformat_minor": 5
}
