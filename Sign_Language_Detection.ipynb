{
 "cells": [
  {
   "cell_type": "code",
   "execution_count": 1,
   "id": "275d7ddc",
   "metadata": {},
   "outputs": [
    {
     "ename": "ModuleNotFoundError",
     "evalue": "No module named 'cv2'",
     "output_type": "error",
     "traceback": [
      "\u001b[1;31m---------------------------------------------------------------------------\u001b[0m",
      "\u001b[1;31mModuleNotFoundError\u001b[0m                       Traceback (most recent call last)",
      "Input \u001b[1;32mIn [1]\u001b[0m, in \u001b[0;36m<cell line: 1>\u001b[1;34m()\u001b[0m\n\u001b[1;32m----> 1\u001b[0m \u001b[38;5;28;01mimport\u001b[39;00m \u001b[38;5;21;01mcv2\u001b[39;00m\n\u001b[0;32m      2\u001b[0m \u001b[38;5;28;01mimport\u001b[39;00m \u001b[38;5;21;01mos\u001b[39;00m\n\u001b[0;32m      3\u001b[0m \u001b[38;5;28;01mimport\u001b[39;00m \u001b[38;5;21;01mtime\u001b[39;00m\n",
      "\u001b[1;31mModuleNotFoundError\u001b[0m: No module named 'cv2'"
     ]
    }
   ],
   "source": [
    "import cv2\n",
    "import os\n",
    "import time\n",
    "import uuid"
   ]
  },
  {
   "cell_type": "code",
   "execution_count": 3,
   "id": "25374f18",
   "metadata": {},
   "outputs": [],
   "source": [
    "IMAGES_PATH = 'Tensorflow\\workspace\\images\\collectedimages'"
   ]
  },
  {
   "cell_type": "markdown",
   "id": "51d355d6",
   "metadata": {},
   "source": [
    "# Creating image labels and number of images to capture"
   ]
  },
  {
   "cell_type": "code",
   "execution_count": 4,
   "id": "377c3196",
   "metadata": {},
   "outputs": [],
   "source": [
    "labels = ['ayee_yo', 'yes', 'no', 'shocked', 'stop']\n",
    "number_of_images = 20"
   ]
  },
  {
   "cell_type": "markdown",
   "id": "d86c68b4",
   "metadata": {},
   "source": [
    "# Creating our own dataset"
   ]
  },
  {
   "cell_type": "code",
   "execution_count": 5,
   "id": "74ceab01",
   "metadata": {},
   "outputs": [
    {
     "name": "stdout",
     "output_type": "stream",
     "text": [
      "Collecting images for stop\n",
      "Tensorflow\\workspace\\images\\collectedimages\\stop\\stop_0_ce99de98-28f4-11ed-93c0-c8b29b0ea9b0.jpg\n",
      "Tensorflow\\workspace\\images\\collectedimages\\stop\\stop_1_d077bc0f-28f4-11ed-98bb-c8b29b0ea9b0.jpg\n",
      "Tensorflow\\workspace\\images\\collectedimages\\stop\\stop_2_d245d7a4-28f4-11ed-858c-c8b29b0ea9b0.jpg\n",
      "Tensorflow\\workspace\\images\\collectedimages\\stop\\stop_3_d41557e3-28f4-11ed-aaf3-c8b29b0ea9b0.jpg\n",
      "Tensorflow\\workspace\\images\\collectedimages\\stop\\stop_4_d5e53d29-28f4-11ed-81f4-c8b29b0ea9b0.jpg\n",
      "Tensorflow\\workspace\\images\\collectedimages\\stop\\stop_5_d7b68779-28f4-11ed-adc5-c8b29b0ea9b0.jpg\n",
      "Tensorflow\\workspace\\images\\collectedimages\\stop\\stop_6_d9877971-28f4-11ed-af0f-c8b29b0ea9b0.jpg\n",
      "Tensorflow\\workspace\\images\\collectedimages\\stop\\stop_7_db58ca47-28f4-11ed-848b-c8b29b0ea9b0.jpg\n",
      "Tensorflow\\workspace\\images\\collectedimages\\stop\\stop_8_dd2ba7e2-28f4-11ed-9dae-c8b29b0ea9b0.jpg\n",
      "Tensorflow\\workspace\\images\\collectedimages\\stop\\stop_9_defce045-28f4-11ed-9ca6-c8b29b0ea9b0.jpg\n",
      "Tensorflow\\workspace\\images\\collectedimages\\stop\\stop_10_e0cdc5e3-28f4-11ed-8162-c8b29b0ea9b0.jpg\n",
      "Tensorflow\\workspace\\images\\collectedimages\\stop\\stop_11_e2a00b9e-28f4-11ed-beaf-c8b29b0ea9b0.jpg\n",
      "Tensorflow\\workspace\\images\\collectedimages\\stop\\stop_12_e4738f53-28f4-11ed-a092-c8b29b0ea9b0.jpg\n",
      "Tensorflow\\workspace\\images\\collectedimages\\stop\\stop_13_e647200f-28f4-11ed-9725-c8b29b0ea9b0.jpg\n",
      "Tensorflow\\workspace\\images\\collectedimages\\stop\\stop_14_e8179e2d-28f4-11ed-b592-c8b29b0ea9b0.jpg\n",
      "Tensorflow\\workspace\\images\\collectedimages\\stop\\stop_15_e9e8bd84-28f4-11ed-b683-c8b29b0ea9b0.jpg\n",
      "Tensorflow\\workspace\\images\\collectedimages\\stop\\stop_16_ebbf2b93-28f4-11ed-8e3d-c8b29b0ea9b0.jpg\n",
      "Tensorflow\\workspace\\images\\collectedimages\\stop\\stop_17_ed904379-28f4-11ed-9503-c8b29b0ea9b0.jpg\n",
      "Tensorflow\\workspace\\images\\collectedimages\\stop\\stop_18_ef61c90e-28f4-11ed-bd3c-c8b29b0ea9b0.jpg\n",
      "Tensorflow\\workspace\\images\\collectedimages\\stop\\stop_19_f1330400-28f4-11ed-b9d9-c8b29b0ea9b0.jpg\n"
     ]
    }
   ],
   "source": [
    "for label in labels:\n",
    "    \n",
    "\n",
    "    !mkdir {'Tensorflow\\workspace\\images\\collectedimages\\\\' +label[0]}\n",
    "\n",
    "    cap = cv2.VideoCapture(0)\n",
    "    print(f\"Collecting images for {label}\")\n",
    "\n",
    "\n",
    "    if cap.isOpened():\n",
    "        time.sleep(5)\n",
    "        for image_number in range(number_of_images):\n",
    "            ret, frame = cap.read()\n",
    "            imagename = os.path.join(IMAGES_PATH, label, label + '_' + str(image_number) + f'_{str(uuid.uuid1())}.jpg')\n",
    "\n",
    "            if ret:\n",
    "                print(imagename)\n",
    "                cv2.imwrite(imagename, frame)\n",
    "                cv2.imshow('frame', frame)\n",
    "\n",
    "                time.sleep(3)\n",
    "\n",
    "                if cv2.waitKey(1) & 0xFF == ord('q'):\n",
    "                    break\n",
    "    cap.release()\n",
    "    "
   ]
  },
  {
   "cell_type": "markdown",
   "id": "e6b7b68a",
   "metadata": {},
   "source": [
    "# Setup paths"
   ]
  },
  {
   "cell_type": "code",
   "execution_count": 18,
   "id": "c0156558",
   "metadata": {},
   "outputs": [],
   "source": [
    "WORKSPACE_PATH = 'Tensorflow/workspace'\n",
    "SCRIPTS_PATH = 'Tensorflow/scripts'\n",
    "APIMODEL_PATH = 'Tensorflow/models'\n",
    "ANNOTATION_PATH = WORKSPACE_PATH+'/annotations'\n",
    "IMAGE_PATH = WORKSPACE_PATH+'/images'\n",
    "MODEL_PATH = WORKSPACE_PATH+'/models'\n",
    "PRETRAINED_MODEL_PATH = WORKSPACE_PATH+'/pre-trained-models'\n",
    "CONFIG_PATH = MODEL_PATH+'/my_ssd_mobnet/pipeline.config'\n",
    "CHECKPOINT_PATH = MODEL_PATH+'/my_ssd_mobnet/'"
   ]
  },
  {
   "cell_type": "markdown",
   "id": "37c60a65",
   "metadata": {},
   "source": [
    "# Create Label Map"
   ]
  },
  {
   "cell_type": "code",
   "execution_count": 3,
   "id": "184ad201",
   "metadata": {},
   "outputs": [],
   "source": [
    "labels = [{'name':'ayee_yo', 'id':1},\n",
    "          {'name':'yes', 'id':2},\n",
    "          {'name':'no', 'id':3},\n",
    "          {'name':'shocked', 'id':4},\n",
    "          {'name':'stop', 'id':5}\n",
    "         ]\n",
    "\n",
    "with open(ANNOTATION_PATH + '\\label_map.pbtxt', 'w') as f:\n",
    "    for label in labels:\n",
    "        f.write('item { \\n')\n",
    "        f.write('\\tname:\\'{}\\'\\n'.format(label['name']))\n",
    "        f.write('\\tid:{}\\n'.format(label['id']))\n",
    "        f.write('}\\n')"
   ]
  },
  {
   "cell_type": "code",
   "execution_count": 39,
   "id": "44d3e0b6",
   "metadata": {},
   "outputs": [
    {
     "name": "stdout",
     "output_type": "stream",
     "text": [
      "Successfully created the TFRecord file: Tensorflow/workspace/annotations/test.record\n"
     ]
    }
   ],
   "source": [
    "# !python {SCRIPTS_PATH + '/generate_tfrecord.py'} -x {IMAGE_PATH + '/train'} -l {ANNOTATION_PATH + '/label_map.pbtxt'} -o {ANNOTATION_PATH + '/train.record'}\n",
    "!python {SCRIPTS_PATH + '/generate_tfrecord.py'} -x{IMAGE_PATH + '/test'} -l {ANNOTATION_PATH + '/label_map.pbtxt'} -o {ANNOTATION_PATH + '/test.record'}"
   ]
  },
  {
   "cell_type": "code",
   "execution_count": 13,
   "id": "2e2bf850",
   "metadata": {},
   "outputs": [
    {
     "name": "stdout",
     "output_type": "stream",
     "text": [
      "\r",
      "  0% [                                                                                ]    0 / 6410\r",
      "100% [................................................................................] 6410 / 6410"
     ]
    },
    {
     "data": {
      "text/plain": [
       "'generate_tfrecord.py'"
      ]
     },
     "execution_count": 13,
     "metadata": {},
     "output_type": "execute_result"
    }
   ],
   "source": [
    "wget.download('https://tensorflow-object-detection-api-tutorial.readthedocs.io/en/latest/_downloads/da4babe668a8afb093cc7776d7e630f3/generate_tfrecord.py')"
   ]
  },
  {
   "cell_type": "code",
   "execution_count": 31,
   "id": "5d3b3b69",
   "metadata": {},
   "outputs": [],
   "source": [
    "import wget\n",
    "import pandas\n",
    "import tensorflow as tf\n",
    "# from object_detection.utils import dataset_util, label_map_util"
   ]
  },
  {
   "cell_type": "code",
   "execution_count": 25,
   "id": "d34e1882",
   "metadata": {},
   "outputs": [
    {
     "name": "stdout",
     "output_type": "stream",
     "text": [
      "Collecting pillow\n",
      "  Downloading Pillow-9.2.0-cp310-cp310-win_amd64.whl (3.3 MB)\n",
      "     ---------------------------------------- 3.3/3.3 MB 10.5 MB/s eta 0:00:00\n",
      "Installing collected packages: pillow\n",
      "Successfully installed pillow-9.2.0\n"
     ]
    }
   ],
   "source": [
    "!pip install pillow"
   ]
  },
  {
   "cell_type": "code",
   "execution_count": null,
   "id": "be509c8d",
   "metadata": {},
   "outputs": [],
   "source": []
  }
 ],
 "metadata": {
  "kernelspec": {
   "display_name": "Python 3 (ipykernel)",
   "language": "python",
   "name": "python3"
  },
  "language_info": {
   "codemirror_mode": {
    "name": "ipython",
    "version": 3
   },
   "file_extension": ".py",
   "mimetype": "text/x-python",
   "name": "python",
   "nbconvert_exporter": "python",
   "pygments_lexer": "ipython3",
   "version": "3.10.4"
  }
 },
 "nbformat": 4,
 "nbformat_minor": 5
}
