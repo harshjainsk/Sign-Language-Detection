{
 "cells": [
  {
   "cell_type": "code",
   "execution_count": 2,
   "id": "275d7ddc",
   "metadata": {},
   "outputs": [],
   "source": [
    "import cv2\n",
    "import os\n",
    "import time\n",
    "import uuid"
   ]
  },
  {
   "cell_type": "code",
   "execution_count": 3,
   "id": "25374f18",
   "metadata": {},
   "outputs": [],
   "source": [
    "IMAGES_PATH = 'Tensorflow\\workspace\\images\\collectedimages'"
   ]
  },
  {
   "cell_type": "markdown",
   "id": "51d355d6",
   "metadata": {},
   "source": [
    "# Creating image labels and number of images to capture"
   ]
  },
  {
   "cell_type": "code",
   "execution_count": 4,
   "id": "377c3196",
   "metadata": {},
   "outputs": [],
   "source": [
    "labels = ['ayee_yo', 'yes', 'no', 'shocked', 'stop']\n",
    "number_of_images = 20"
   ]
  },
  {
   "cell_type": "markdown",
   "id": "d86c68b4",
   "metadata": {},
   "source": [
    "# Creating our own dataset"
   ]
  },
  {
   "cell_type": "code",
   "execution_count": 5,
   "id": "74ceab01",
   "metadata": {},
   "outputs": [
    {
     "name": "stdout",
     "output_type": "stream",
     "text": [
      "Collecting images for stop\n",
      "Tensorflow\\workspace\\images\\collectedimages\\stop\\stop_0_ce99de98-28f4-11ed-93c0-c8b29b0ea9b0.jpg\n",
      "Tensorflow\\workspace\\images\\collectedimages\\stop\\stop_1_d077bc0f-28f4-11ed-98bb-c8b29b0ea9b0.jpg\n",
      "Tensorflow\\workspace\\images\\collectedimages\\stop\\stop_2_d245d7a4-28f4-11ed-858c-c8b29b0ea9b0.jpg\n",
      "Tensorflow\\workspace\\images\\collectedimages\\stop\\stop_3_d41557e3-28f4-11ed-aaf3-c8b29b0ea9b0.jpg\n",
      "Tensorflow\\workspace\\images\\collectedimages\\stop\\stop_4_d5e53d29-28f4-11ed-81f4-c8b29b0ea9b0.jpg\n",
      "Tensorflow\\workspace\\images\\collectedimages\\stop\\stop_5_d7b68779-28f4-11ed-adc5-c8b29b0ea9b0.jpg\n",
      "Tensorflow\\workspace\\images\\collectedimages\\stop\\stop_6_d9877971-28f4-11ed-af0f-c8b29b0ea9b0.jpg\n",
      "Tensorflow\\workspace\\images\\collectedimages\\stop\\stop_7_db58ca47-28f4-11ed-848b-c8b29b0ea9b0.jpg\n",
      "Tensorflow\\workspace\\images\\collectedimages\\stop\\stop_8_dd2ba7e2-28f4-11ed-9dae-c8b29b0ea9b0.jpg\n",
      "Tensorflow\\workspace\\images\\collectedimages\\stop\\stop_9_defce045-28f4-11ed-9ca6-c8b29b0ea9b0.jpg\n",
      "Tensorflow\\workspace\\images\\collectedimages\\stop\\stop_10_e0cdc5e3-28f4-11ed-8162-c8b29b0ea9b0.jpg\n",
      "Tensorflow\\workspace\\images\\collectedimages\\stop\\stop_11_e2a00b9e-28f4-11ed-beaf-c8b29b0ea9b0.jpg\n",
      "Tensorflow\\workspace\\images\\collectedimages\\stop\\stop_12_e4738f53-28f4-11ed-a092-c8b29b0ea9b0.jpg\n",
      "Tensorflow\\workspace\\images\\collectedimages\\stop\\stop_13_e647200f-28f4-11ed-9725-c8b29b0ea9b0.jpg\n",
      "Tensorflow\\workspace\\images\\collectedimages\\stop\\stop_14_e8179e2d-28f4-11ed-b592-c8b29b0ea9b0.jpg\n",
      "Tensorflow\\workspace\\images\\collectedimages\\stop\\stop_15_e9e8bd84-28f4-11ed-b683-c8b29b0ea9b0.jpg\n",
      "Tensorflow\\workspace\\images\\collectedimages\\stop\\stop_16_ebbf2b93-28f4-11ed-8e3d-c8b29b0ea9b0.jpg\n",
      "Tensorflow\\workspace\\images\\collectedimages\\stop\\stop_17_ed904379-28f4-11ed-9503-c8b29b0ea9b0.jpg\n",
      "Tensorflow\\workspace\\images\\collectedimages\\stop\\stop_18_ef61c90e-28f4-11ed-bd3c-c8b29b0ea9b0.jpg\n",
      "Tensorflow\\workspace\\images\\collectedimages\\stop\\stop_19_f1330400-28f4-11ed-b9d9-c8b29b0ea9b0.jpg\n"
     ]
    }
   ],
   "source": [
    "for label in labels:\n",
    "    \n",
    "\n",
    "    !mkdir {'Tensorflow\\workspace\\images\\collectedimages\\\\' +label[0]}\n",
    "\n",
    "    cap = cv2.VideoCapture(0)\n",
    "    print(f\"Collecting images for {label}\")\n",
    "\n",
    "\n",
    "    if cap.isOpened():\n",
    "        time.sleep(5)\n",
    "        for image_number in range(number_of_images):\n",
    "            ret, frame = cap.read()\n",
    "            imagename = os.path.join(IMAGES_PATH, label, label + '_' + str(image_number) + f'_{str(uuid.uuid1())}.jpg')\n",
    "\n",
    "            if ret:\n",
    "                print(imagename)\n",
    "                cv2.imwrite(imagename, frame)\n",
    "                cv2.imshow('frame', frame)\n",
    "\n",
    "                time.sleep(3)\n",
    "\n",
    "                if cv2.waitKey(1) & 0xFF == ord('q'):\n",
    "                    break\n",
    "    cap.release()\n",
    "    "
   ]
  },
  {
   "cell_type": "code",
   "execution_count": null,
   "id": "c11078f3",
   "metadata": {},
   "outputs": [],
   "source": []
  }
 ],
 "metadata": {
  "kernelspec": {
   "display_name": "Python 3 (ipykernel)",
   "language": "python",
   "name": "python3"
  },
  "language_info": {
   "codemirror_mode": {
    "name": "ipython",
    "version": 3
   },
   "file_extension": ".py",
   "mimetype": "text/x-python",
   "name": "python",
   "nbconvert_exporter": "python",
   "pygments_lexer": "ipython3",
   "version": "3.9.12"
  }
 },
 "nbformat": 4,
 "nbformat_minor": 5
}
