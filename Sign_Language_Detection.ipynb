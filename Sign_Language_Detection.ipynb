{
 "cells": [
  {
   "cell_type": "code",
   "execution_count": 1,
   "id": "275d7ddc",
   "metadata": {},
   "outputs": [],
   "source": [
    "import cv2\n",
    "import os\n",
    "import time\n",
    "import uuid"
   ]
  },
  {
   "cell_type": "code",
   "execution_count": 2,
   "id": "25374f18",
   "metadata": {},
   "outputs": [],
   "source": [
    "IMAGES_PATH = 'Tensorflow\\workspace\\images\\collectedimages'"
   ]
  },
  {
   "cell_type": "markdown",
   "id": "51d355d6",
   "metadata": {},
   "source": [
    "# Creating image labels and number of images to capture"
   ]
  },
  {
   "cell_type": "code",
   "execution_count": 3,
   "id": "377c3196",
   "metadata": {},
   "outputs": [],
   "source": [
    "label = ['ayee_yo', 'yes', 'no', 'shocked', 'stop']\n",
    "number_of_images = 20"
   ]
  },
  {
   "cell_type": "markdown",
   "id": "d86c68b4",
   "metadata": {},
   "source": [
    "# Creating our own dataset"
   ]
  },
  {
   "cell_type": "code",
   "execution_count": 4,
   "id": "74ceab01",
   "metadata": {},
   "outputs": [
    {
     "name": "stdout",
     "output_type": "stream",
     "text": [
      "Collecting images for no\n",
      "Tensorflow\\workspace\\images\\collectedimages\\no\\no_0_5b37aabe-28ec-11ed-b2d9-c8b29b0ea9b0.jpg\n",
      "Tensorflow\\workspace\\images\\collectedimages\\no\\no_1_5d683cb8-28ec-11ed-bffa-c8b29b0ea9b0.jpg\n",
      "Tensorflow\\workspace\\images\\collectedimages\\no\\no_2_5f3c6e02-28ec-11ed-9e5e-c8b29b0ea9b0.jpg\n",
      "Tensorflow\\workspace\\images\\collectedimages\\no\\no_3_610fa149-28ec-11ed-8780-c8b29b0ea9b0.jpg\n",
      "Tensorflow\\workspace\\images\\collectedimages\\no\\no_4_62e5d335-28ec-11ed-9c9e-c8b29b0ea9b0.jpg\n",
      "Tensorflow\\workspace\\images\\collectedimages\\no\\no_5_64b8e162-28ec-11ed-acb8-c8b29b0ea9b0.jpg\n",
      "Tensorflow\\workspace\\images\\collectedimages\\no\\no_6_668cc612-28ec-11ed-815b-c8b29b0ea9b0.jpg\n",
      "Tensorflow\\workspace\\images\\collectedimages\\no\\no_7_686059ed-28ec-11ed-ae43-c8b29b0ea9b0.jpg\n",
      "Tensorflow\\workspace\\images\\collectedimages\\no\\no_8_6a34954c-28ec-11ed-895d-c8b29b0ea9b0.jpg\n",
      "Tensorflow\\workspace\\images\\collectedimages\\no\\no_9_6c08635f-28ec-11ed-9144-c8b29b0ea9b0.jpg\n",
      "Tensorflow\\workspace\\images\\collectedimages\\no\\no_10_6ddc0679-28ec-11ed-80ee-c8b29b0ea9b0.jpg\n",
      "Tensorflow\\workspace\\images\\collectedimages\\no\\no_11_6faf28d2-28ec-11ed-ac10-c8b29b0ea9b0.jpg\n",
      "Tensorflow\\workspace\\images\\collectedimages\\no\\no_12_718126fe-28ec-11ed-9f27-c8b29b0ea9b0.jpg\n",
      "Tensorflow\\workspace\\images\\collectedimages\\no\\no_13_7353cb2b-28ec-11ed-8fab-c8b29b0ea9b0.jpg\n",
      "Tensorflow\\workspace\\images\\collectedimages\\no\\no_14_7527e2a4-28ec-11ed-9736-c8b29b0ea9b0.jpg\n",
      "Tensorflow\\workspace\\images\\collectedimages\\no\\no_15_76fbae85-28ec-11ed-80bb-c8b29b0ea9b0.jpg\n",
      "Tensorflow\\workspace\\images\\collectedimages\\no\\no_16_78ce6798-28ec-11ed-a65d-c8b29b0ea9b0.jpg\n",
      "Tensorflow\\workspace\\images\\collectedimages\\no\\no_17_7aa14235-28ec-11ed-a330-c8b29b0ea9b0.jpg\n",
      "Tensorflow\\workspace\\images\\collectedimages\\no\\no_18_7c738ef3-28ec-11ed-a680-c8b29b0ea9b0.jpg\n",
      "Tensorflow\\workspace\\images\\collectedimages\\no\\no_19_7e43ff5c-28ec-11ed-b0b9-c8b29b0ea9b0.jpg\n"
     ]
    },
    {
     "ename": "AttributeError",
     "evalue": "'cv2.VideoCapture' object has no attribute 'destroyAllWindows'",
     "output_type": "error",
     "traceback": [
      "\u001b[1;31m---------------------------------------------------------------------------\u001b[0m",
      "\u001b[1;31mAttributeError\u001b[0m                            Traceback (most recent call last)",
      "Input \u001b[1;32mIn [4]\u001b[0m, in \u001b[0;36m<cell line: 7>\u001b[1;34m()\u001b[0m\n\u001b[0;32m     22\u001b[0m             \u001b[38;5;28;01mbreak\u001b[39;00m\n\u001b[0;32m     23\u001b[0m cap\u001b[38;5;241m.\u001b[39mrelease()\n\u001b[1;32m---> 24\u001b[0m \u001b[43mcap\u001b[49m\u001b[38;5;241;43m.\u001b[39;49m\u001b[43mdestroyAllWindows\u001b[49m()\n",
      "\u001b[1;31mAttributeError\u001b[0m: 'cv2.VideoCapture' object has no attribute 'destroyAllWindows'"
     ]
    }
   ],
   "source": [
    "# !mkdir {'Tensorflow\\\\workspace\\\\images\\\\collectedimages\\\\' +label[0]}\n",
    "\n",
    "cap = cv2.VideoCapture(0)\n",
    "print(f\"Collecting images for {label[3]}\")\n",
    "\n",
    "\n",
    "if cap.isOpened():\n",
    "    time.sleep(5)\n",
    "    for image_number in range(number_of_images):\n",
    "        ret, frame = cap.read()\n",
    "        imagename = os.path.join(IMAGES_PATH, label[3],label[3] +'_' + str(image_number) + f'_{str(uuid.uuid1())}.jpg')\n",
    "        \n",
    "        if ret:\n",
    "#             img_name = os.path.join(IMAGES_PATH, label[0], str(uuid.uuid4()) + '.jpg')\n",
    "\n",
    "            print(imagename)\n",
    "            cv2.imwrite(imagename, frame)\n",
    "            cv2.imshow('frame', frame)\n",
    "\n",
    "            time.sleep(3)\n",
    "\n",
    "            if cv2.waitKey(1) & 0xFF == ord('q'):\n",
    "                break\n",
    "    cap.release()\n",
    "    cap.destroyAllWindows()"
   ]
  },
  {
   "cell_type": "code",
   "execution_count": null,
   "id": "c11078f3",
   "metadata": {},
   "outputs": [],
   "source": []
  }
 ],
 "metadata": {
  "kernelspec": {
   "display_name": "Python 3 (ipykernel)",
   "language": "python",
   "name": "python3"
  },
  "language_info": {
   "codemirror_mode": {
    "name": "ipython",
    "version": 3
   },
   "file_extension": ".py",
   "mimetype": "text/x-python",
   "name": "python",
   "nbconvert_exporter": "python",
   "pygments_lexer": "ipython3",
   "version": "3.9.12"
  }
 },
 "nbformat": 4,
 "nbformat_minor": 5
}
